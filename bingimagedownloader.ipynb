{
  "nbformat": 4,
  "nbformat_minor": 0,
  "metadata": {
    "colab": {
      "name": "bingimagedownloader.ipynb",
      "provenance": [],
      "collapsed_sections": []
    },
    "kernelspec": {
      "name": "python3",
      "display_name": "Python 3"
    },
    "language_info": {
      "name": "python"
    }
  },
  "cells": [
    {
      "cell_type": "code",
      "metadata": {
        "colab": {
          "base_uri": "https://localhost:8080/"
        },
        "id": "I8TR5Qwx8Erc",
        "outputId": "b631cc23-6f8e-4e9d-8532-db2dfb8c543b"
      },
      "source": [
        "!pip install bing-image-downloader"
      ],
      "execution_count": null,
      "outputs": [
        {
          "output_type": "stream",
          "text": [
            "Collecting bing-image-downloader\n",
            "  Downloading bing_image_downloader-1.1.1-py3-none-any.whl (5.7 kB)\n",
            "Installing collected packages: bing-image-downloader\n",
            "Successfully installed bing-image-downloader-1.1.1\n"
          ],
          "name": "stdout"
        }
      ]
    },
    {
      "cell_type": "code",
      "metadata": {
        "id": "EkXPBqzA8MGf",
        "colab": {
          "base_uri": "https://localhost:8080/"
        },
        "outputId": "56e0a94d-d198-401d-d922-7d827885807c"
      },
      "source": [
        "from bing_image_downloader.downloader import download\n",
        "\n",
        "query_string = 'thalipeeth'\n",
        "\n",
        "download(query_string, limit=5,  output_dir='dataset', adult_filter_off=True, force_replace=False, timeout=60, verbose=True)"
      ],
      "execution_count": null,
      "outputs": [
        {
          "output_type": "stream",
          "text": [
            "[%] Downloading Images to /content/dataset/thalipeeth\n",
            "\n",
            "\n",
            "[!!]Indexing page: 1\n",
            "\n",
            "[%] Indexed 5 Images on Page 1.\n",
            "\n",
            "===============================================\n",
            "\n",
            "[%] Downloading Image #1 from https://www.lazy2cook.com/wp-content/uploads/2017/08/Bhajani-Thalipeeth1a.jpg\n",
            "[%] File Downloaded !\n",
            "\n",
            "[%] Downloading Image #2 from http://vegrecipes4u.com/wp-content/uploads/2013/04/thalipeeth.jpg\n",
            "[%] File Downloaded !\n",
            "\n",
            "[%] Downloading Image #3 from http://simplyvegetarian777.com/wp-content/uploads/2016/04/image-14.png\n",
            "[%] File Downloaded !\n",
            "\n",
            "[%] Downloading Image #4 from https://i.pinimg.com/originals/72/8e/0e/728e0e009f893618b9f49683903d75ce.jpg\n",
            "[%] File Downloaded !\n",
            "\n",
            "[%] Downloading Image #5 from https://simplyvegetarian777.com/wp-content/uploads/2016/04/image-13-768x1066.png\n",
            "[%] File Downloaded !\n",
            "\n",
            "\n",
            "\n",
            "[%] Done. Downloaded 5 images.\n",
            "===============================================\n",
            "\n",
            "Please show your support here\n",
            "https://www.buymeacoffee.com/gurugaurav\n",
            "\n",
            "===============================================\n",
            "\n"
          ],
          "name": "stdout"
        }
      ]
    },
    {
      "cell_type": "code",
      "metadata": {
        "id": "db4PUcGS95tI"
      },
      "source": [
        "!zip -r /content/thalipeeth.zip /content/dataset/thalipeeth"
      ],
      "execution_count": null,
      "outputs": []
    },
    {
      "cell_type": "code",
      "metadata": {
        "id": "ErenekEW-BSD"
      },
      "source": [
        "from google.colab import files\n",
        "files.download(\"/content/thalipeeth.zip\")"
      ],
      "execution_count": null,
      "outputs": []
    }
  ]
}