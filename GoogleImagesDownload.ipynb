{
  "nbformat": 4,
  "nbformat_minor": 0,
  "metadata": {
    "colab": {
      "name": "GoogleImagesDownload.ipynb",
      "provenance": [],
      "collapsed_sections": []
    },
    "kernelspec": {
      "name": "python3",
      "display_name": "Python 3"
    },
    "language_info": {
      "name": "python"
    }
  },
  "cells": [
    {
      "cell_type": "code",
      "metadata": {
        "id": "ccsyBnvyrHzV"
      },
      "source": [
        "!pip install google_images_download"
      ],
      "execution_count": null,
      "outputs": []
    },
    {
      "cell_type": "code",
      "metadata": {
        "id": "9xHQUXVBrMX-"
      },
      "source": [
        "!git clone https://github.com/Joeclinton1/google-images-download.git\n",
        "%cd google-images-download "
      ],
      "execution_count": null,
      "outputs": []
    },
    {
      "cell_type": "code",
      "metadata": {
        "id": "aoPSqcg6rRev"
      },
      "source": [
        "!python setup.py install"
      ],
      "execution_count": null,
      "outputs": []
    },
    {
      "cell_type": "code",
      "metadata": {
        "id": "yIkMLp7MrUZv"
      },
      "source": [
        "!python3 /content/google-images-download/google_images_download/google_images_download.py -k icecream -l 5"
      ],
      "execution_count": null,
      "outputs": []
    },
    {
      "cell_type": "code",
      "metadata": {
        "id": "QmKlMCanr9XS"
      },
      "source": [
        "!zip -r /content/upma.zip /content/google-images-download/downloads/upma "
      ],
      "execution_count": null,
      "outputs": []
    }
  ]
}